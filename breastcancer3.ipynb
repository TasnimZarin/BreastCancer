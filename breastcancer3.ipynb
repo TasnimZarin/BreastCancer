{
 "cells": [
  {
   "cell_type": "code",
   "execution_count": 1,
   "id": "16448515-b7ae-47fe-8390-bb4393a6b3a8",
   "metadata": {},
   "outputs": [],
   "source": [
    "# function for creating a naive inception block\n",
    "def inception_module(layer_in, f1, f2, f3):\n",
    "\t# 1x1 conv\n",
    "\tconv1 = Conv2D(f1, (1,1), padding='same', activation='relu')(layer_in)\n",
    "\t# 3x3 conv\n",
    "\tconv3 = Conv2D(f2, (3,3), padding='same', activation='relu')(layer_in)\n",
    "\t# 5x5 conv\n",
    "\tconv5 = Conv2D(f3, (5,5), padding='same', activation='relu')(layer_in)\n",
    "\t# 3x3 max pooling\n",
    "\tpool = MaxPooling2D((3,3), strides=(1,1), padding='same')(layer_in)\n",
    "\t# concatenate filters, assumes filters/channels last\n",
    "\tlayer_out = concatenate([conv1, conv3, conv5, pool], axis=-1)\n",
    "\treturn layer_out"
   ]
  },
  {
   "cell_type": "code",
   "execution_count": 2,
   "id": "1aad20f1-ac88-49c2-8fc7-31598755e545",
   "metadata": {},
   "outputs": [
    {
     "name": "stdout",
     "output_type": "stream",
     "text": [
      "Model: \"model\"\n",
      "__________________________________________________________________________________________________\n",
      " Layer (type)                   Output Shape         Param #     Connected to                     \n",
      "==================================================================================================\n",
      " input_1 (InputLayer)           [(None, 224, 224, 3  0           []                               \n",
      "                                )]                                                                \n",
      "                                                                                                  \n",
      " conv2d (Conv2D)                (None, 224, 224, 64  256         ['input_1[0][0]']                \n",
      "                                )                                                                 \n",
      "                                                                                                  \n",
      " conv2d_1 (Conv2D)              (None, 224, 224, 12  3584        ['input_1[0][0]']                \n",
      "                                8)                                                                \n",
      "                                                                                                  \n",
      " conv2d_2 (Conv2D)              (None, 224, 224, 32  2432        ['input_1[0][0]']                \n",
      "                                )                                                                 \n",
      "                                                                                                  \n",
      " max_pooling2d (MaxPooling2D)   (None, 224, 224, 3)  0           ['input_1[0][0]']                \n",
      "                                                                                                  \n",
      " concatenate (Concatenate)      (None, 224, 224, 22  0           ['conv2d[0][0]',                 \n",
      "                                7)                                'conv2d_1[0][0]',               \n",
      "                                                                  'conv2d_2[0][0]',               \n",
      "                                                                  'max_pooling2d[0][0]']          \n",
      "                                                                                                  \n",
      "==================================================================================================\n",
      "Total params: 6,272\n",
      "Trainable params: 6,272\n",
      "Non-trainable params: 0\n",
      "__________________________________________________________________________________________________\n"
     ]
    }
   ],
   "source": [
    "from keras.models import Model\n",
    "from keras.layers import Input\n",
    "from keras.layers import Conv2D\n",
    "from keras.layers import MaxPooling2D\n",
    "from keras.layers.merge import concatenate\n",
    "visible = Input(shape=(224, 224, 3))\n",
    "# add inception module\n",
    "layer = inception_module(visible, 64, 128, 32)\n",
    "# create model\n",
    "model = Model(inputs=visible, outputs=layer)\n",
    "# summarize model\n",
    "model.summary()"
   ]
  },
  {
   "cell_type": "code",
   "execution_count": 3,
   "id": "ed126e8f-b9f3-425e-9e18-46a93106bc27",
   "metadata": {},
   "outputs": [
    {
     "ename": "NameError",
     "evalue": "name 'inception_modulee' is not defined",
     "output_type": "error",
     "traceback": [
      "\u001b[1;31m---------------------------------------------------------------------------\u001b[0m",
      "\u001b[1;31mNameError\u001b[0m                                 Traceback (most recent call last)",
      "Input \u001b[1;32mIn [3]\u001b[0m, in \u001b[0;36m<cell line: 26>\u001b[1;34m()\u001b[0m\n\u001b[0;32m     24\u001b[0m visible \u001b[38;5;241m=\u001b[39m Input(shape\u001b[38;5;241m=\u001b[39m(\u001b[38;5;241m224\u001b[39m, \u001b[38;5;241m224\u001b[39m, \u001b[38;5;241m3\u001b[39m))\n\u001b[0;32m     25\u001b[0m \u001b[38;5;66;03m# add inception module\u001b[39;00m\n\u001b[1;32m---> 26\u001b[0m layer \u001b[38;5;241m=\u001b[39m \u001b[43minception_modulee\u001b[49m(visible, \u001b[38;5;241m64\u001b[39m, \u001b[38;5;241m128\u001b[39m, \u001b[38;5;241m32\u001b[39m)\n\u001b[0;32m     27\u001b[0m \u001b[38;5;66;03m# create model\u001b[39;00m\n\u001b[0;32m     28\u001b[0m model \u001b[38;5;241m=\u001b[39m Model(inputs\u001b[38;5;241m=\u001b[39mvisible, outputs\u001b[38;5;241m=\u001b[39mlayer)\n",
      "\u001b[1;31mNameError\u001b[0m: name 'inception_modulee' is not defined"
     ]
    }
   ],
   "source": [
    "# example of creating a CNN with an inception module\n",
    "from keras.models import Model\n",
    "from keras.layers import Input\n",
    "from keras.layers import Conv2D\n",
    "from keras.layers import MaxPooling2D\n",
    "from keras.layers.merge import concatenate\n",
    "#from keras.utils import plot_model\n",
    " \n",
    "# function for creating a naive inception block\n",
    "def naive_inception_module(layer_in, f1, f2, f3):\n",
    "\t# 1x1 conv\n",
    "\tconv1 = Conv2D(f1, (1,1), padding='same', activation='relu')(layer_in)\n",
    "\t# 3x3 conv\n",
    "\tconv3 = Conv2D(f2, (3,3), padding='same', activation='relu')(layer_in)\n",
    "\t# 5x5 conv\n",
    "\tconv5 = Conv2D(f3, (5,5), padding='same', activation='relu')(layer_in)\n",
    "\t# 3x3 max pooling\n",
    "\tpool = MaxPooling2D((3,3), strides=(1,1), padding='same')(layer_in)\n",
    "\t# concatenate filters, assumes filters/channels last\n",
    "\tlayer_out = concatenate([conv1, conv3, conv5, pool], axis=-1)\n",
    "\treturn layer_out\n",
    " \n",
    "# define model input\n",
    "visible = Input(shape=(224, 224, 3))\n",
    "# add inception module\n",
    "layer = inception_modulee(visible, 64, 128, 32)\n",
    "# create model\n",
    "model = Model(inputs=visible, outputs=layer)\n",
    "# summarize model\n",
    "model.summary()\n",
    "# plot model architecture\n",
    "#plot_model(model, show_shapes=True, to_file='naive_inception_module.png')"
   ]
  },
  {
   "cell_type": "code",
   "execution_count": null,
   "id": "db786da9-5c72-4ba4-8859-7d4dfe52f332",
   "metadata": {},
   "outputs": [],
   "source": []
  },
  {
   "cell_type": "code",
   "execution_count": null,
   "id": "b7362c26-f314-44f6-98ad-761573d02fa9",
   "metadata": {},
   "outputs": [],
   "source": []
  }
 ],
 "metadata": {
  "kernelspec": {
   "display_name": "Python 3 (ipykernel)",
   "language": "python",
   "name": "python3"
  },
  "language_info": {
   "codemirror_mode": {
    "name": "ipython",
    "version": 3
   },
   "file_extension": ".py",
   "mimetype": "text/x-python",
   "name": "python",
   "nbconvert_exporter": "python",
   "pygments_lexer": "ipython3",
   "version": "3.8.12"
  }
 },
 "nbformat": 4,
 "nbformat_minor": 5
}
